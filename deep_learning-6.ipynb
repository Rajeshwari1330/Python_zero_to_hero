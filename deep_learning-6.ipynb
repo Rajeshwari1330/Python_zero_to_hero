{
 "cells": [
  {
   "cell_type": "markdown",
   "id": "2375daf7",
   "metadata": {},
   "source": [
    "# if"
   ]
  },
  {
   "cell_type": "code",
   "execution_count": 1,
   "id": "15d21e23",
   "metadata": {},
   "outputs": [
    {
     "name": "stdout",
     "output_type": "stream",
     "text": [
      "True\n"
     ]
    }
   ],
   "source": [
    "print(True and True)"
   ]
  },
  {
   "cell_type": "code",
   "execution_count": 2,
   "id": "55fa0bae",
   "metadata": {},
   "outputs": [
    {
     "name": "stdout",
     "output_type": "stream",
     "text": [
      "False\n"
     ]
    }
   ],
   "source": [
    "print(False and True)"
   ]
  },
  {
   "cell_type": "code",
   "execution_count": 3,
   "id": "2b6ddc60",
   "metadata": {},
   "outputs": [
    {
     "name": "stdout",
     "output_type": "stream",
     "text": [
      "False\n"
     ]
    }
   ],
   "source": [
    "x = 7\n",
    "y = 2\n",
    "print(not(x>y and x<y or True))"
   ]
  },
  {
   "cell_type": "code",
   "execution_count": 4,
   "id": "25326254",
   "metadata": {},
   "outputs": [
    {
     "name": "stdout",
     "output_type": "stream",
     "text": [
      "Enter some value of x \t41\n",
      "Hello\n",
      "another statement\n"
     ]
    }
   ],
   "source": [
    "x = input(\"Enter some value of x \\t\")\n",
    "y = int(x)\n",
    "if y >10:\n",
    "    print(\"Hello\")\n",
    "    print(\"another statement\")"
   ]
  },
  {
   "cell_type": "code",
   "execution_count": 5,
   "id": "5bb3ed51",
   "metadata": {},
   "outputs": [
    {
     "name": "stdout",
     "output_type": "stream",
     "text": [
      "world\n"
     ]
    }
   ],
   "source": [
    "x = 9\n",
    "if x > 10:\n",
    "    print(\"hello\")\n",
    "else:\n",
    "    print(\"world\")"
   ]
  },
  {
   "cell_type": "code",
   "execution_count": 6,
   "id": "435923ca",
   "metadata": {},
   "outputs": [
    {
     "name": "stdout",
     "output_type": "stream",
     "text": [
      "x<y\n"
     ]
    }
   ],
   "source": [
    "x = 10\n",
    "y = 12\n",
    "if x > y:\n",
    "    print(\"x>y\")\n",
    "elif x < y:\n",
    "    print(\"x<y\")\n",
    "else:\n",
    "    print(\"x=y\")"
   ]
  },
  {
   "cell_type": "markdown",
   "id": "04188e3f",
   "metadata": {},
   "source": [
    "if statement inside a if statement or if-elif or if-else are called as nested if statements."
   ]
  },
  {
   "cell_type": "markdown",
   "id": "ca3a8bf5",
   "metadata": {},
   "source": [
    "# Loops"
   ]
  },
  {
   "cell_type": "code",
   "execution_count": 7,
   "id": "f681bb34",
   "metadata": {},
   "outputs": [
    {
     "name": "stdout",
     "output_type": "stream",
     "text": [
      "0\n",
      "1\n",
      "2\n",
      "3\n",
      "4\n"
     ]
    }
   ],
   "source": [
    "for i in range(5):\n",
    "    print (i)"
   ]
  },
  {
   "cell_type": "markdown",
   "id": "38f1c876",
   "metadata": {},
   "source": [
    "In the above example, i iterates over the 0,1,2,3,4. Every time it takes each value and executes the algorithm inside the loop. It is also possible to iterate over a nested list illustrated below."
   ]
  },
  {
   "cell_type": "code",
   "execution_count": 8,
   "id": "4369b95f",
   "metadata": {},
   "outputs": [
    {
     "name": "stdout",
     "output_type": "stream",
     "text": [
      "[1, 2, 3]\n",
      "[4, 5, 6]\n",
      "[7, 8, 9]\n"
     ]
    }
   ],
   "source": [
    "list_of_lists = [[1, 2, 3], [4, 5, 6], [7, 8, 9]]\n",
    "for list1 in list_of_lists:\n",
    "        print(list1)"
   ]
  },
  {
   "cell_type": "markdown",
   "id": "8fc09167",
   "metadata": {},
   "source": [
    "A use case of a nested for loop in this case would be,"
   ]
  },
  {
   "cell_type": "code",
   "execution_count": 9,
   "id": "2a8a6a1b",
   "metadata": {},
   "outputs": [
    {
     "name": "stdout",
     "output_type": "stream",
     "text": [
      "1\n",
      "2\n",
      "3\n",
      "4\n",
      "5\n",
      "6\n",
      "7\n",
      "8\n",
      "9\n"
     ]
    }
   ],
   "source": [
    "list_of_lists = [[1, 2, 3], [4, 5, 6], [7, 8, 9]]\n",
    "for list1 in list_of_lists:\n",
    "    for x in list1:\n",
    "        print (x)"
   ]
  },
  {
   "cell_type": "markdown",
   "id": "d463f89b",
   "metadata": {},
   "source": [
    "# while"
   ]
  },
  {
   "cell_type": "code",
   "execution_count": 10,
   "id": "3e0de0c8",
   "metadata": {},
   "outputs": [
    {
     "name": "stdout",
     "output_type": "stream",
     "text": [
      "1\n",
      "4\n",
      "Bye\n"
     ]
    }
   ],
   "source": [
    "i = 1\n",
    "while i < 3:\n",
    "    print(i ** 2)\n",
    "    i = i+1\n",
    "print('Bye')"
   ]
  },
  {
   "cell_type": "markdown",
   "id": "7103c223",
   "metadata": {},
   "source": [
    "# break"
   ]
  },
  {
   "cell_type": "markdown",
   "id": "356df6af",
   "metadata": {},
   "source": [
    "As the name says. It is used to break out of a loop when a condition becomes true when executing the loop."
   ]
  },
  {
   "cell_type": "code",
   "execution_count": 11,
   "id": "e7327269",
   "metadata": {},
   "outputs": [
    {
     "name": "stdout",
     "output_type": "stream",
     "text": [
      "0\n",
      "1\n",
      "2\n",
      "3\n",
      "4\n",
      "5\n",
      "6\n",
      "7\n"
     ]
    }
   ],
   "source": [
    "for i in range(100):\n",
    "    print (i)\n",
    "    if i>=7:\n",
    "        break"
   ]
  },
  {
   "cell_type": "markdown",
   "id": "0b242f33",
   "metadata": {},
   "source": [
    "# continue"
   ]
  },
  {
   "cell_type": "markdown",
   "id": "0d214e41",
   "metadata": {},
   "source": [
    "This continues the rest of the loop. Sometimes when a condition is satisfied there are chances of the loop getting terminated. This can be avoided using continue statement."
   ]
  },
  {
   "cell_type": "code",
   "execution_count": 12,
   "id": "6c422527",
   "metadata": {},
   "outputs": [
    {
     "name": "stdout",
     "output_type": "stream",
     "text": [
      "The end.\n",
      "The end.\n",
      "The end.\n",
      "The end.\n",
      "The end.\n"
     ]
    }
   ],
   "source": [
    "for i in range(10):\n",
    "    if i>4:\n",
    "        print(\"The end.\")\n",
    "        continue\n",
    "        print (i)"
   ]
  },
  {
   "cell_type": "markdown",
   "id": "30b7b56d",
   "metadata": {},
   "source": [
    "# List Comprehensions"
   ]
  },
  {
   "cell_type": "markdown",
   "id": "fa046233",
   "metadata": {},
   "source": [
    "Python makes it simple to generate a required list with a single line of code using list comprehensions. For example If i need to generate multiples of say 27 I write the code using for loop as,"
   ]
  },
  {
   "cell_type": "code",
   "execution_count": 13,
   "id": "5d56e893",
   "metadata": {},
   "outputs": [
    {
     "name": "stdout",
     "output_type": "stream",
     "text": [
      "[27, 54, 81, 108, 135, 162, 189, 216, 243, 270]\n"
     ]
    }
   ],
   "source": [
    "res = []\n",
    "for i in range(1,11):\n",
    "    x = 27*i\n",
    "    res.append(x)\n",
    "print(res)"
   ]
  },
  {
   "cell_type": "markdown",
   "id": "46033a42",
   "metadata": {},
   "source": [
    "Since you are generating another list altogether and that is what is required, List comprehensions is a more efficient way to solve this problem."
   ]
  },
  {
   "cell_type": "code",
   "execution_count": 14,
   "id": "ae7b9497",
   "metadata": {},
   "outputs": [
    {
     "data": {
      "text/plain": [
       "[27, 54, 81, 108, 135, 162, 189, 216, 243, 270]"
      ]
     },
     "execution_count": 14,
     "metadata": {},
     "output_type": "execute_result"
    }
   ],
   "source": [
    "[27*x for x in range(1,11)]"
   ]
  },
  {
   "cell_type": "markdown",
   "id": "bc7051f5",
   "metadata": {},
   "source": [
    "That's it!. Only remember to enclose it in square brackets"
   ]
  },
  {
   "cell_type": "markdown",
   "id": "2cd5655d",
   "metadata": {},
   "source": [
    "Understanding the code, The first bit of the code is always the algorithm and then leave a space and then write the necessary loop. But you might be wondering can nested loops be extended to list comprehensions? Yes you can."
   ]
  },
  {
   "cell_type": "code",
   "execution_count": 15,
   "id": "3d2bb413",
   "metadata": {},
   "outputs": [
    {
     "data": {
      "text/plain": [
       "[27, 54, 81, 108, 135, 162, 189, 216, 243, 270]"
      ]
     },
     "execution_count": 15,
     "metadata": {},
     "output_type": "execute_result"
    }
   ],
   "source": [
    "[27*x for x in range(1,20) if x<=10]"
   ]
  },
  {
   "cell_type": "markdown",
   "id": "6f1b5a88",
   "metadata": {},
   "source": [
    "Let me add one more loop to make you understand better,"
   ]
  },
  {
   "cell_type": "code",
   "execution_count": 17,
   "id": "d70e19c1",
   "metadata": {},
   "outputs": [
    {
     "data": {
      "text/plain": [
       "[27, 54, 81, 108, 135, 162, 189, 216, 243, 270]"
      ]
     },
     "execution_count": 17,
     "metadata": {},
     "output_type": "execute_result"
    }
   ],
   "source": [
    "[27*z for i in range(50) if i==27 for z in range(1,11)]"
   ]
  },
  {
   "cell_type": "code",
   "execution_count": 18,
   "id": "d67e1a2c",
   "metadata": {},
   "outputs": [],
   "source": [
    "def findMax(x,y):\n",
    "    if x<y:\n",
    "        return y\n",
    "    return x"
   ]
  },
  {
   "cell_type": "code",
   "execution_count": 19,
   "id": "d7046a03",
   "metadata": {},
   "outputs": [
    {
     "data": {
      "text/plain": [
       "30"
      ]
     },
     "execution_count": 19,
     "metadata": {},
     "output_type": "execute_result"
    }
   ],
   "source": [
    "findMax(10,30)"
   ]
  },
  {
   "cell_type": "code",
   "execution_count": 20,
   "id": "9d4cb627",
   "metadata": {},
   "outputs": [],
   "source": [
    "def findMaxFromAList(lst):\n",
    "    mx = lst[0]\n",
    "    for i in lst:\n",
    "        if i>mx:\n",
    "            mx = i\n",
    "    return mx"
   ]
  },
  {
   "cell_type": "code",
   "execution_count": 21,
   "id": "57f4571a",
   "metadata": {},
   "outputs": [
    {
     "data": {
      "text/plain": [
       "10"
      ]
     },
     "execution_count": 21,
     "metadata": {},
     "output_type": "execute_result"
    }
   ],
   "source": [
    "A = [1,2,4,5,0,1,3,6,8,4,5]\n",
    "findMaxFromAList(A)\n",
    "A.append(10)\n",
    "A.append(2)\n",
    "findMaxFromAList(A)"
   ]
  },
  {
   "cell_type": "code",
   "execution_count": 22,
   "id": "c77f4cbf",
   "metadata": {},
   "outputs": [
    {
     "name": "stdout",
     "output_type": "stream",
     "text": [
      "[1, 2, 4, 5, 0, 1, 3, 6, 8, 4, 5, 10, 2]\n"
     ]
    }
   ],
   "source": [
    "print(A)"
   ]
  },
  {
   "cell_type": "markdown",
   "id": "6d53e0ed",
   "metadata": {},
   "source": [
    "# Calculator"
   ]
  },
  {
   "cell_type": "code",
   "execution_count": 23,
   "id": "2799eeb3",
   "metadata": {},
   "outputs": [],
   "source": [
    "def printTable(x):\n",
    "    for i in range(10):\n",
    "        print(str(x) + \"*\" + str(i+1)+ \"=\" + str(x*(i+1)))"
   ]
  },
  {
   "cell_type": "code",
   "execution_count": 24,
   "id": "56c356c4",
   "metadata": {},
   "outputs": [
    {
     "name": "stdout",
     "output_type": "stream",
     "text": [
      "Enter first Number \t20\n",
      "Enter second Number \t3\n",
      "Enter + , -,/ or * , t for table and q quit \t+\n",
      "23.0\n",
      "Enter first Number \t13\n",
      "Enter second Number \t30\n",
      "Enter + , -,/ or * , t for table and q quit \t*\n",
      "390.0\n",
      "Enter first Number \t67\n",
      "Enter second Number \t54\n",
      "Enter + , -,/ or * , t for table and q quit \t-\n",
      "13.0\n",
      "Enter first Number \t56\n",
      "Enter second Number \t90\n",
      "Enter + , -,/ or * , t for table and q quit \t-\n",
      "-34.0\n",
      "Enter first Number \t90\n",
      "Enter second Number \t3\n",
      "Enter + , -,/ or * , t for table and q quit \t/\n",
      "30.0\n",
      "Enter first Number \t3\n",
      "Enter second Number \t4\n",
      "Enter + , -,/ or * , t for table and q quit \t*\n",
      "12.0\n",
      "Enter first Number \t5\n",
      "Enter second Number \t3\n",
      "Enter + , -,/ or * , t for table and q quit \tt\n",
      "5.0*1=5.0\n",
      "5.0*2=10.0\n",
      "5.0*3=15.0\n",
      "5.0*4=20.0\n",
      "5.0*5=25.0\n",
      "5.0*6=30.0\n",
      "5.0*7=35.0\n",
      "5.0*8=40.0\n",
      "5.0*9=45.0\n",
      "5.0*10=50.0\n",
      "Enter first Number \tq\n",
      "Enter second Number \t3\n"
     ]
    },
    {
     "ename": "ValueError",
     "evalue": "could not convert string to float: 'q'",
     "output_type": "error",
     "traceback": [
      "\u001b[1;31m---------------------------------------------------------------------------\u001b[0m",
      "\u001b[1;31mValueError\u001b[0m                                Traceback (most recent call last)",
      "Cell \u001b[1;32mIn[24], line 5\u001b[0m\n\u001b[0;32m      3\u001b[0m x \u001b[38;5;241m=\u001b[39m \u001b[38;5;28minput\u001b[39m(\u001b[38;5;124m\"\u001b[39m\u001b[38;5;124mEnter first Number \u001b[39m\u001b[38;5;130;01m\\t\u001b[39;00m\u001b[38;5;124m\"\u001b[39m)\n\u001b[0;32m      4\u001b[0m y \u001b[38;5;241m=\u001b[39m \u001b[38;5;28minput\u001b[39m(\u001b[38;5;124m\"\u001b[39m\u001b[38;5;124mEnter second Number \u001b[39m\u001b[38;5;130;01m\\t\u001b[39;00m\u001b[38;5;124m\"\u001b[39m)\n\u001b[1;32m----> 5\u001b[0m x \u001b[38;5;241m=\u001b[39m \u001b[38;5;28;43mfloat\u001b[39;49m\u001b[43m(\u001b[49m\u001b[43mx\u001b[49m\u001b[43m)\u001b[49m\n\u001b[0;32m      6\u001b[0m y \u001b[38;5;241m=\u001b[39m \u001b[38;5;28mfloat\u001b[39m(y)\n\u001b[0;32m      7\u001b[0m ch \u001b[38;5;241m=\u001b[39m \u001b[38;5;28minput\u001b[39m(\u001b[38;5;124m\"\u001b[39m\u001b[38;5;124mEnter + , -,/ or * , t for table and q quit \u001b[39m\u001b[38;5;130;01m\\t\u001b[39;00m\u001b[38;5;124m\"\u001b[39m)\n",
      "\u001b[1;31mValueError\u001b[0m: could not convert string to float: 'q'"
     ]
    }
   ],
   "source": [
    "ch = '+'\n",
    "while not(ch == 'q'):\n",
    "    x = input(\"Enter first Number \\t\")\n",
    "    y = input(\"Enter second Number \\t\")\n",
    "    x = float(x)\n",
    "    y = float(y)\n",
    "    ch = input(\"Enter + , -,/ or * , t for table and q quit \\t\")\n",
    "    if ch == '+':\n",
    "        print(x+y)\n",
    "    elif ch == '-':\n",
    "        print(x-y)\n",
    "    elif ch == '/':\n",
    "        print(x/y)\n",
    "    elif ch == '*':\n",
    "        print(x*y)\n",
    "    elif ch == 'q':\n",
    "        break\n",
    "    elif ch == 't':\n",
    "        printTable(x)\n",
    "    else:        \n",
    "        print(\"Your entered wrong choice\")"
   ]
  },
  {
   "cell_type": "code",
   "execution_count": 25,
   "id": "ad1bbf44",
   "metadata": {},
   "outputs": [
    {
     "name": "stdout",
     "output_type": "stream",
     "text": [
      "Enter first Number \t4\n",
      "Enter second Number \t3\n",
      "Enter + , -,/ or * , t for table and q quit \tq\n"
     ]
    }
   ],
   "source": [
    "ch = '+'\n",
    "while not(ch == 'q'):\n",
    "    x = input(\"Enter first Number \\t\")\n",
    "    y = input(\"Enter second Number \\t\")\n",
    "    x = float(x)\n",
    "    y = float(y)\n",
    "    ch = input(\"Enter + , -,/ or * , t for table and q quit \\t\")\n",
    "    if ch == '+':\n",
    "        print(x+y)\n",
    "    elif ch == '-':\n",
    "        print(x-y)\n",
    "    elif ch == '/':\n",
    "        print(x/y)\n",
    "    elif ch == '*':\n",
    "        print(x*y)\n",
    "    elif ch == 'q':\n",
    "        break\n",
    "    elif ch == 't':\n",
    "        printTable(x)\n",
    "    else:        \n",
    "        print(\"Your entered wrong choice\")"
   ]
  },
  {
   "cell_type": "code",
   "execution_count": 26,
   "id": "16a69879",
   "metadata": {},
   "outputs": [
    {
     "name": "stdout",
     "output_type": "stream",
     "text": [
      "3.4*6=20.4\n"
     ]
    }
   ],
   "source": [
    "x = 3.4\n",
    "i = 5\n",
    "print(str(x) + \"*\" + str(i+1)+ \"=\" + str(x*(i+1)))"
   ]
  }
 ],
 "metadata": {
  "kernelspec": {
   "display_name": "Python 3 (ipykernel)",
   "language": "python",
   "name": "python3"
  },
  "language_info": {
   "codemirror_mode": {
    "name": "ipython",
    "version": 3
   },
   "file_extension": ".py",
   "mimetype": "text/x-python",
   "name": "python",
   "nbconvert_exporter": "python",
   "pygments_lexer": "ipython3",
   "version": "3.10.9"
  }
 },
 "nbformat": 4,
 "nbformat_minor": 5
}
